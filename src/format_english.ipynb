{
 "cells": [
  {
   "cell_type": "markdown",
   "metadata": {},
   "source": [
    "# Format 3000,5000,5000 exclusive data to word lists\n",
    "format 3000,5000,5000_exclusve in the following formats:\n",
    "\n",
    "* all data text british: word, type, definition, example, phonetics, cefr\n",
    "* all data text usa: word, type, definition, example, phonetics, cefr\n",
    "* all data + pronunciation: same as above with clickable HTML\n",
    "* 2 column: word, type, definiton\n",
    "\n",
    "All of the above grouped by cefr"
   ]
  },
  {
   "cell_type": "code",
   "execution_count": 1,
   "metadata": {},
   "outputs": [
    {
     "name": "stderr",
     "output_type": "stream",
     "text": [
      "/tmp/ipykernel_158630/3026406390.py:1: DeprecationWarning: \n",
      "Pyarrow will become a required dependency of pandas in the next major release of pandas (pandas 3.0),\n",
      "(to allow more performant data types, such as the Arrow string type, and better interoperability with other libraries)\n",
      "but was not found to be installed on your system.\n",
      "If this would cause problems for you,\n",
      "please provide us feedback at https://github.com/pandas-dev/pandas/issues/54466\n",
      "        \n",
      "  import pandas as pd\n"
     ]
    }
   ],
   "source": [
    "import pandas as pd\n",
    "import os"
   ]
  },
  {
   "cell_type": "code",
   "execution_count": 2,
   "metadata": {},
   "outputs": [
    {
     "data": {
      "text/html": [
       "<div>\n",
       "<style scoped>\n",
       "    .dataframe tbody tr th:only-of-type {\n",
       "        vertical-align: middle;\n",
       "    }\n",
       "\n",
       "    .dataframe tbody tr th {\n",
       "        vertical-align: top;\n",
       "    }\n",
       "\n",
       "    .dataframe thead th {\n",
       "        text-align: right;\n",
       "    }\n",
       "</style>\n",
       "<table border=\"1\" class=\"dataframe\">\n",
       "  <thead>\n",
       "    <tr style=\"text-align: right;\">\n",
       "      <th></th>\n",
       "      <th>word</th>\n",
       "      <th>type</th>\n",
       "      <th>cefr</th>\n",
       "      <th>phon_br</th>\n",
       "      <th>phon_n_am</th>\n",
       "      <th>definition</th>\n",
       "      <th>example</th>\n",
       "      <th>uk</th>\n",
       "      <th>us</th>\n",
       "    </tr>\n",
       "  </thead>\n",
       "  <tbody>\n",
       "    <tr>\n",
       "      <th>0</th>\n",
       "      <td>a</td>\n",
       "      <td>indefinite article</td>\n",
       "      <td>a1</td>\n",
       "      <td>/ə/</td>\n",
       "      <td>/ə/</td>\n",
       "      <td>used before countable or singular nouns referr...</td>\n",
       "      <td>a man/horse/unit</td>\n",
       "      <td>a_uk.mp3</td>\n",
       "      <td>a_us.mp3</td>\n",
       "    </tr>\n",
       "    <tr>\n",
       "      <th>1</th>\n",
       "      <td>abandon</td>\n",
       "      <td>verb</td>\n",
       "      <td>b2</td>\n",
       "      <td>/əˈbændən/</td>\n",
       "      <td>/əˈbændən/</td>\n",
       "      <td>to leave somebody, especially somebody you are...</td>\n",
       "      <td>abandon somebody, The baby had been abandoned ...</td>\n",
       "      <td>abandon_uk.mp3</td>\n",
       "      <td>abandon_us.mp3</td>\n",
       "    </tr>\n",
       "    <tr>\n",
       "      <th>2</th>\n",
       "      <td>ability</td>\n",
       "      <td>noun</td>\n",
       "      <td>a2</td>\n",
       "      <td>/əˈbɪləti/</td>\n",
       "      <td>/əˈbɪləti/</td>\n",
       "      <td>the fact that somebody/something is able to do...</td>\n",
       "      <td>People with the disease may lose their ability...</td>\n",
       "      <td>ability_uk.mp3</td>\n",
       "      <td>ability_us.mp3</td>\n",
       "    </tr>\n",
       "    <tr>\n",
       "      <th>3</th>\n",
       "      <td>able</td>\n",
       "      <td>adjective</td>\n",
       "      <td>a2</td>\n",
       "      <td>/ˈeɪbl/</td>\n",
       "      <td>/ˈeɪbl/</td>\n",
       "      <td>to have the skill, intelligence, opportunity, ...</td>\n",
       "      <td>You must be able to speak French for this job.</td>\n",
       "      <td>able_uk.mp3</td>\n",
       "      <td>able_us.mp3</td>\n",
       "    </tr>\n",
       "    <tr>\n",
       "      <th>4</th>\n",
       "      <td>about</td>\n",
       "      <td>adverb</td>\n",
       "      <td>a1</td>\n",
       "      <td>/əˈbaʊt/</td>\n",
       "      <td>/əˈbaʊt/</td>\n",
       "      <td>a little more or less than; a little before or...</td>\n",
       "      <td>It costs about $10.</td>\n",
       "      <td>about_uk.mp3</td>\n",
       "      <td>about_us.mp3</td>\n",
       "    </tr>\n",
       "  </tbody>\n",
       "</table>\n",
       "</div>"
      ],
      "text/plain": [
       "      word                type cefr     phon_br   phon_n_am  \\\n",
       "0        a  indefinite article   a1         /ə/         /ə/   \n",
       "1  abandon                verb   b2  /əˈbændən/  /əˈbændən/   \n",
       "2  ability                noun   a2  /əˈbɪləti/  /əˈbɪləti/   \n",
       "3     able           adjective   a2     /ˈeɪbl/     /ˈeɪbl/   \n",
       "4    about              adverb   a1    /əˈbaʊt/    /əˈbaʊt/   \n",
       "\n",
       "                                          definition  \\\n",
       "0  used before countable or singular nouns referr...   \n",
       "1  to leave somebody, especially somebody you are...   \n",
       "2  the fact that somebody/something is able to do...   \n",
       "3  to have the skill, intelligence, opportunity, ...   \n",
       "4  a little more or less than; a little before or...   \n",
       "\n",
       "                                             example              uk  \\\n",
       "0                                   a man/horse/unit        a_uk.mp3   \n",
       "1  abandon somebody, The baby had been abandoned ...  abandon_uk.mp3   \n",
       "2  People with the disease may lose their ability...  ability_uk.mp3   \n",
       "3     You must be able to speak French for this job.     able_uk.mp3   \n",
       "4                                It costs about $10.    about_uk.mp3   \n",
       "\n",
       "               us  \n",
       "0        a_us.mp3  \n",
       "1  abandon_us.mp3  \n",
       "2  ability_us.mp3  \n",
       "3     able_us.mp3  \n",
       "4    about_us.mp3  "
      ]
     },
     "execution_count": 2,
     "metadata": {},
     "output_type": "execute_result"
    }
   ],
   "source": [
    "DATASET = 'oxford_3000'\n",
    "#DATASET = 'oxford_5000'\n",
    "#DATASET = 'oxford_5000_exclusive'\n",
    "df = pd.read_pickle(f\"./data/english/{DATASET}.pkl\")\n",
    "df.head()"
   ]
  },
  {
   "cell_type": "markdown",
   "metadata": {},
   "source": [
    "## HTML+PDF all columns alphabetical"
   ]
  },
  {
   "cell_type": "code",
   "execution_count": 3,
   "metadata": {},
   "outputs": [],
   "source": [
    "from utils.utils import replace_word_in_example_with_underscore\n",
    "from utils.dataset import load_english as load_data"
   ]
  },
  {
   "cell_type": "code",
   "execution_count": 4,
   "metadata": {},
   "outputs": [
    {
     "name": "stderr",
     "output_type": "stream",
     "text": [
      "/home/jelle/wd/words/src/utils/english.py:7: SettingWithCopyWarning: \n",
      "A value is trying to be set on a copy of a slice from a DataFrame.\n",
      "Try using .loc[row_indexer,col_indexer] = value instead\n",
      "\n",
      "See the caveats in the documentation: https://pandas.pydata.org/pandas-docs/stable/user_guide/indexing.html#returning-a-view-versus-a-copy\n",
      "  data['cefr'] = data['cefr'].map(lambda x: x.strip().upper())\n",
      "pagedjs-cli not found. Please select a different --pdf-engine or install pagedjs-cli -- see also /usr/share/doc/pandoc/README.Debian\n"
     ]
    },
    {
     "data": {
      "text/plain": [
       "12032"
      ]
     },
     "execution_count": 4,
     "metadata": {},
     "output_type": "execute_result"
    }
   ],
   "source": [
    "data = load_data()\n",
    "\n",
    "style = data.style.format(\n",
    "    escape=\"html\",\n",
    "    )\n",
    "style = style.hide(axis='index')\n",
    "\n",
    "html = style.to_html()\n",
    "filename = DATASET + '_alphabetical'\n",
    "with open(f'output/{filename}.html', 'w') as f:\n",
    "    f.write('<meta charset=\"UTF-8\">'+html)\n",
    "\n",
    "cmd = f'pandoc -f html -t pdf output/{filename}.html -t html5 -o output/{filename}.pdf --metadata pagetitle=\"{filename}\" -V margin-top=2 -V margin-bottom=2 -V margin-left=2 -V margin-right=2 -c format/table.css '\n",
    "os.system(cmd)"
   ]
  },
  {
   "cell_type": "code",
   "execution_count": 5,
   "metadata": {},
   "outputs": [
    {
     "name": "stderr",
     "output_type": "stream",
     "text": [
      "/home/jelle/wd/words/src/utils/english.py:7: SettingWithCopyWarning: \n",
      "A value is trying to be set on a copy of a slice from a DataFrame.\n",
      "Try using .loc[row_indexer,col_indexer] = value instead\n",
      "\n",
      "See the caveats in the documentation: https://pandas.pydata.org/pandas-docs/stable/user_guide/indexing.html#returning-a-view-versus-a-copy\n",
      "  data['cefr'] = data['cefr'].map(lambda x: x.strip().upper())\n",
      "pagedjs-cli not found. Please select a different --pdf-engine or install pagedjs-cli -- see also /usr/share/doc/pandoc/README.Debian\n"
     ]
    },
    {
     "data": {
      "text/plain": [
       "12032"
      ]
     },
     "execution_count": 5,
     "metadata": {},
     "output_type": "execute_result"
    }
   ],
   "source": [
    "# Complete to HTML\n",
    "data = load_data()\n",
    "data[\"example\"] = data.apply(lambda row: replace_word_in_example_with_underscore(row.word, row.example) , axis=1)\n",
    "\n",
    "style = data.style.format(\n",
    "    escape=\"html\",\n",
    "    )\n",
    "style = style.hide(axis='index')\n",
    "\n",
    "html = style.to_html()\n",
    "filename = DATASET + '_underscore_alphabetical'\n",
    "with open(f'output/{filename}.html', 'w') as f:\n",
    "    f.write('<meta charset=\"UTF-8\">'+html)\n",
    "\n",
    "cmd = f'pandoc -f html -t pdf output/{filename}.html -t html5 -o output/{filename}.pdf --metadata pagetitle=\"{filename}\" -V margin-top=2 -V margin-bottom=2 -V margin-left=2 -V margin-right=2 -c format/table.css '\n",
    "os.system(cmd)"
   ]
  },
  {
   "cell_type": "markdown",
   "metadata": {},
   "source": [
    "## HTML+PDF all columns grouped by CEFR"
   ]
  },
  {
   "cell_type": "code",
   "execution_count": 6,
   "metadata": {},
   "outputs": [
    {
     "name": "stderr",
     "output_type": "stream",
     "text": [
      "/home/jelle/wd/words/src/utils/english.py:7: SettingWithCopyWarning: \n",
      "A value is trying to be set on a copy of a slice from a DataFrame.\n",
      "Try using .loc[row_indexer,col_indexer] = value instead\n",
      "\n",
      "See the caveats in the documentation: https://pandas.pydata.org/pandas-docs/stable/user_guide/indexing.html#returning-a-view-versus-a-copy\n",
      "  data['cefr'] = data['cefr'].map(lambda x: x.strip().upper())\n"
     ]
    },
    {
     "name": "stdout",
     "output_type": "stream",
     "text": [
      "_ man/horse/unit\n",
      "\n",
      "\n",
      "\n",
      "\n"
     ]
    },
    {
     "name": "stderr",
     "output_type": "stream",
     "text": [
      "pagedjs-cli not found. Please select a different --pdf-engine or install pagedjs-cli -- see also /usr/share/doc/pandoc/README.Debian\n"
     ]
    },
    {
     "data": {
      "text/plain": [
       "12032"
      ]
     },
     "execution_count": 6,
     "metadata": {},
     "output_type": "execute_result"
    }
   ],
   "source": [
    "data = load_data()\n",
    "data[\"example\"] = data.apply(lambda row: replace_word_in_example_with_underscore(row.word, row.example) , axis=1)\n",
    "print(data[\"example\"][0])\n",
    "cefrs = ['A1', 'A2', 'B1', 'B2', 'C1']\n",
    "data_by_cefr = list(map(lambda c : data[data['cefr'] == c], cefrs))\n",
    "\n",
    "# Complete to HTML\n",
    "html_out = ''\n",
    "for data in data_by_cefr:\n",
    "    if data.empty:\n",
    "        continue\n",
    "    cefr = data['cefr'].iloc[0]\n",
    "    html_out += f'<h2>{cefr}</h2>'\n",
    "    data = data.drop(['cefr'], axis=1)\n",
    "    print()\n",
    "    data = data.rename(columns={'word' : f'word ({cefr})'})\n",
    "\n",
    "    style = data.style.format(\n",
    "        escape=\"html\",\n",
    "        )\n",
    "    style = style.hide(axis='index')\n",
    "    html_out += style.to_html()\n",
    "\n",
    "\n",
    "filename = DATASET+'_underscore_by_cefr'\n",
    "with open(f'output/{filename}.html', 'w', encoding='utf-8') as f:\n",
    "    f.write(html_out)\n",
    "\n",
    "# to pdf\n",
    "cmd = f\"\"\"pandoc -f html -t pdf output/{filename}.html -t html5 -o output/{filename}.pdf --metadata pagetitle=\"{filename}\" -V margin-top=2 -V margin-bottom=2 -V margin-left=2 -V margin-right=2 -c format/table.css  --title '{filename}'\"\"\"\n",
    "os.system(cmd)\n"
   ]
  },
  {
   "cell_type": "code",
   "execution_count": 7,
   "metadata": {},
   "outputs": [
    {
     "name": "stderr",
     "output_type": "stream",
     "text": [
      "/home/jelle/wd/words/src/utils/english.py:7: SettingWithCopyWarning: \n",
      "A value is trying to be set on a copy of a slice from a DataFrame.\n",
      "Try using .loc[row_indexer,col_indexer] = value instead\n",
      "\n",
      "See the caveats in the documentation: https://pandas.pydata.org/pandas-docs/stable/user_guide/indexing.html#returning-a-view-versus-a-copy\n",
      "  data['cefr'] = data['cefr'].map(lambda x: x.strip().upper())\n"
     ]
    },
    {
     "name": "stdout",
     "output_type": "stream",
     "text": [
      "\n",
      "\n",
      "\n",
      "\n"
     ]
    },
    {
     "name": "stderr",
     "output_type": "stream",
     "text": [
      "pagedjs-cli not found. Please select a different --pdf-engine or install pagedjs-cli -- see also /usr/share/doc/pandoc/README.Debian\n"
     ]
    },
    {
     "data": {
      "text/plain": [
       "12032"
      ]
     },
     "execution_count": 7,
     "metadata": {},
     "output_type": "execute_result"
    }
   ],
   "source": [
    "data = load_data()\n",
    "cefrs = ['A1', 'A2', 'B1', 'B2', 'C1']\n",
    "data_by_cefr = list(map(lambda c : data[data['cefr'] == c], cefrs))\n",
    "\n",
    "# Complete to HTML\n",
    "html_out = ''\n",
    "for data in data_by_cefr:\n",
    "    if data.empty:\n",
    "        continue\n",
    "    cefr = data['cefr'].iloc[0]\n",
    "    html_out += f'<h2>{cefr}</h2>'\n",
    "    data = data.drop(['cefr'], axis=1)\n",
    "    print()\n",
    "    data = data.rename(columns={'word' : f'word ({cefr})'})\n",
    "\n",
    "    style = data.style.format(\n",
    "        escape=\"html\",\n",
    "        )\n",
    "    style = style.hide(axis='index')\n",
    "    html_out += style.to_html()\n",
    "\n",
    "\n",
    "filename = DATASET+'_by_cefr'\n",
    "with open(f'output/{filename}.html', 'w', encoding='utf-8') as f:\n",
    "    f.write(html_out)\n",
    "\n",
    "# to pdf\n",
    "cmd = f\"\"\"pandoc -f html -t pdf output/{filename}.html -t html5 -o output/{filename}.pdf --metadata pagetitle=\"{filename}\" -V margin-top=2 -V margin-bottom=2 -V margin-left=2 -V margin-right=2 -c format/table.css  --title '{filename}'\"\"\"\n",
    "os.system(cmd)\n"
   ]
  },
  {
   "cell_type": "markdown",
   "metadata": {},
   "source": [
    "## HTML+PDF all columns grouped by CEFR shuffle"
   ]
  },
  {
   "cell_type": "code",
   "execution_count": 8,
   "metadata": {},
   "outputs": [
    {
     "name": "stderr",
     "output_type": "stream",
     "text": [
      "/home/jelle/wd/words/src/utils/english.py:7: SettingWithCopyWarning: \n",
      "A value is trying to be set on a copy of a slice from a DataFrame.\n",
      "Try using .loc[row_indexer,col_indexer] = value instead\n",
      "\n",
      "See the caveats in the documentation: https://pandas.pydata.org/pandas-docs/stable/user_guide/indexing.html#returning-a-view-versus-a-copy\n",
      "  data['cefr'] = data['cefr'].map(lambda x: x.strip().upper())\n"
     ]
    },
    {
     "name": "stdout",
     "output_type": "stream",
     "text": [
      "\n"
     ]
    },
    {
     "name": "stderr",
     "output_type": "stream",
     "text": [
      "/home/jelle/wd/words/src/utils/english.py:7: SettingWithCopyWarning: \n",
      "A value is trying to be set on a copy of a slice from a DataFrame.\n",
      "Try using .loc[row_indexer,col_indexer] = value instead\n",
      "\n",
      "See the caveats in the documentation: https://pandas.pydata.org/pandas-docs/stable/user_guide/indexing.html#returning-a-view-versus-a-copy\n",
      "  data['cefr'] = data['cefr'].map(lambda x: x.strip().upper())\n"
     ]
    },
    {
     "name": "stdout",
     "output_type": "stream",
     "text": [
      "\n"
     ]
    },
    {
     "name": "stderr",
     "output_type": "stream",
     "text": [
      "/home/jelle/wd/words/src/utils/english.py:7: SettingWithCopyWarning: \n",
      "A value is trying to be set on a copy of a slice from a DataFrame.\n",
      "Try using .loc[row_indexer,col_indexer] = value instead\n",
      "\n",
      "See the caveats in the documentation: https://pandas.pydata.org/pandas-docs/stable/user_guide/indexing.html#returning-a-view-versus-a-copy\n",
      "  data['cefr'] = data['cefr'].map(lambda x: x.strip().upper())\n"
     ]
    },
    {
     "name": "stdout",
     "output_type": "stream",
     "text": [
      "\n"
     ]
    },
    {
     "name": "stderr",
     "output_type": "stream",
     "text": [
      "/home/jelle/wd/words/src/utils/english.py:7: SettingWithCopyWarning: \n",
      "A value is trying to be set on a copy of a slice from a DataFrame.\n",
      "Try using .loc[row_indexer,col_indexer] = value instead\n",
      "\n",
      "See the caveats in the documentation: https://pandas.pydata.org/pandas-docs/stable/user_guide/indexing.html#returning-a-view-versus-a-copy\n",
      "  data['cefr'] = data['cefr'].map(lambda x: x.strip().upper())\n"
     ]
    },
    {
     "name": "stdout",
     "output_type": "stream",
     "text": [
      "\n"
     ]
    },
    {
     "name": "stderr",
     "output_type": "stream",
     "text": [
      "pagedjs-cli not found. Please select a different --pdf-engine or install pagedjs-cli -- see also /usr/share/doc/pandoc/README.Debian\n"
     ]
    },
    {
     "data": {
      "text/plain": [
       "12032"
      ]
     },
     "execution_count": 8,
     "metadata": {},
     "output_type": "execute_result"
    }
   ],
   "source": [
    "# Complete to HTML\n",
    "html_out = ''\n",
    "for data in data_by_cefr:\n",
    "    if data.empty:\n",
    "        continue\n",
    "    data = load_data()\n",
    "    cefr = data['cefr'].iloc[0]\n",
    "    html_out += f'<h2>{cefr}</h2>'\n",
    "    data = data.drop(['cefr'], axis=1)\n",
    "    print()\n",
    "    data = data.rename(columns={'word' : f'word ({cefr})'})\n",
    "    data = data.sample(frac=1)\n",
    "\n",
    "    style = data.style.format(\n",
    "        escape=\"html\",\n",
    "        )\n",
    "    style = style.hide(axis='index')\n",
    "    html_out += style.to_html()\n",
    "\n",
    "\n",
    "filename = DATASET+'_by_cefr_shuffle'\n",
    "with open(f'output/{filename}.html', 'w', encoding='utf-8') as f:\n",
    "    f.write(html_out)\n",
    "\n",
    "# to pdf\n",
    "cmd = f\"\"\"pandoc -f html -t pdf output/{filename}.html -t html5 -o output/{filename}.pdf --metadata pagetitle=\"{filename}\" -V margin-top=2 -V margin-bottom=2 -V margin-left=2 -V margin-right=2 -c format/table.css  --title '{filename}'\"\"\"\n",
    "os.system(cmd)\n"
   ]
  },
  {
   "cell_type": "code",
   "execution_count": 9,
   "metadata": {},
   "outputs": [
    {
     "name": "stderr",
     "output_type": "stream",
     "text": [
      "/home/jelle/wd/words/src/utils/english.py:7: SettingWithCopyWarning: \n",
      "A value is trying to be set on a copy of a slice from a DataFrame.\n",
      "Try using .loc[row_indexer,col_indexer] = value instead\n",
      "\n",
      "See the caveats in the documentation: https://pandas.pydata.org/pandas-docs/stable/user_guide/indexing.html#returning-a-view-versus-a-copy\n",
      "  data['cefr'] = data['cefr'].map(lambda x: x.strip().upper())\n"
     ]
    },
    {
     "name": "stdout",
     "output_type": "stream",
     "text": [
      "\n"
     ]
    },
    {
     "name": "stderr",
     "output_type": "stream",
     "text": [
      "/home/jelle/wd/words/src/utils/english.py:7: SettingWithCopyWarning: \n",
      "A value is trying to be set on a copy of a slice from a DataFrame.\n",
      "Try using .loc[row_indexer,col_indexer] = value instead\n",
      "\n",
      "See the caveats in the documentation: https://pandas.pydata.org/pandas-docs/stable/user_guide/indexing.html#returning-a-view-versus-a-copy\n",
      "  data['cefr'] = data['cefr'].map(lambda x: x.strip().upper())\n"
     ]
    },
    {
     "name": "stdout",
     "output_type": "stream",
     "text": [
      "\n"
     ]
    },
    {
     "name": "stderr",
     "output_type": "stream",
     "text": [
      "/home/jelle/wd/words/src/utils/english.py:7: SettingWithCopyWarning: \n",
      "A value is trying to be set on a copy of a slice from a DataFrame.\n",
      "Try using .loc[row_indexer,col_indexer] = value instead\n",
      "\n",
      "See the caveats in the documentation: https://pandas.pydata.org/pandas-docs/stable/user_guide/indexing.html#returning-a-view-versus-a-copy\n",
      "  data['cefr'] = data['cefr'].map(lambda x: x.strip().upper())\n"
     ]
    },
    {
     "name": "stdout",
     "output_type": "stream",
     "text": [
      "\n"
     ]
    },
    {
     "name": "stderr",
     "output_type": "stream",
     "text": [
      "/home/jelle/wd/words/src/utils/english.py:7: SettingWithCopyWarning: \n",
      "A value is trying to be set on a copy of a slice from a DataFrame.\n",
      "Try using .loc[row_indexer,col_indexer] = value instead\n",
      "\n",
      "See the caveats in the documentation: https://pandas.pydata.org/pandas-docs/stable/user_guide/indexing.html#returning-a-view-versus-a-copy\n",
      "  data['cefr'] = data['cefr'].map(lambda x: x.strip().upper())\n"
     ]
    },
    {
     "name": "stdout",
     "output_type": "stream",
     "text": [
      "\n"
     ]
    },
    {
     "name": "stderr",
     "output_type": "stream",
     "text": [
      "pagedjs-cli not found. Please select a different --pdf-engine or install pagedjs-cli -- see also /usr/share/doc/pandoc/README.Debian\n"
     ]
    },
    {
     "data": {
      "text/plain": [
       "12032"
      ]
     },
     "execution_count": 9,
     "metadata": {},
     "output_type": "execute_result"
    }
   ],
   "source": [
    "# Complete to HTML\n",
    "html_out = ''\n",
    "for data in data_by_cefr:\n",
    "    if data.empty:\n",
    "        continue\n",
    "    data = load_data()\n",
    "    cefr = data['cefr'].iloc[0]\n",
    "    html_out += f'<h2>{cefr}</h2>'\n",
    "    data = data.drop(['cefr'], axis=1)\n",
    "    print()\n",
    "    data = data.rename(columns={'word' : f'word ({cefr})'})\n",
    "    data = data.sample(frac=1)\n",
    "\n",
    "    style = data.style.format(\n",
    "        escape=\"html\",\n",
    "        )\n",
    "    style = style.hide(axis='index')\n",
    "    html_out += style.to_html()\n",
    "\n",
    "\n",
    "filename = DATASET+'_by_cefr_shuffle'\n",
    "with open(f'output/{filename}.html', 'w', encoding='utf-8') as f:\n",
    "    f.write(html_out)\n",
    "\n",
    "# to pdf\n",
    "cmd = f\"\"\"pandoc -f html -t pdf output/{filename}.html -t html5 -o output/{filename}.pdf --metadata pagetitle=\"{filename}\" -V margin-top=2 -V margin-bottom=2 -V margin-left=2 -V margin-right=2 -c format/table.css  --title '{filename}'\"\"\"\n",
    "os.system(cmd)\n"
   ]
  },
  {
   "cell_type": "markdown",
   "metadata": {},
   "source": [
    "## 2 Column LateX word,type and definition alphabetical"
   ]
  },
  {
   "cell_type": "code",
   "execution_count": 10,
   "metadata": {},
   "outputs": [],
   "source": [
    "from utils.utils import FixLatexLine"
   ]
  },
  {
   "cell_type": "code",
   "execution_count": 11,
   "metadata": {},
   "outputs": [
    {
     "name": "stderr",
     "output_type": "stream",
     "text": [
      "/home/jelle/wd/words/src/utils/english.py:7: SettingWithCopyWarning: \n",
      "A value is trying to be set on a copy of a slice from a DataFrame.\n",
      "Try using .loc[row_indexer,col_indexer] = value instead\n",
      "\n",
      "See the caveats in the documentation: https://pandas.pydata.org/pandas-docs/stable/user_guide/indexing.html#returning-a-view-versus-a-copy\n",
      "  data['cefr'] = data['cefr'].map(lambda x: x.strip().upper())\n"
     ]
    }
   ],
   "source": [
    "# 2 Column word + definition\n",
    "data = load_data()\n",
    "data = data[[\"word\", \"definition\"]]\n",
    "\n",
    "style = data.style.format(\n",
    "    escape=\"latex\",\n",
    "    )\n",
    "style = style.hide(axis='index')\n",
    "style = style.hide(axis='columns')\n",
    "\n",
    "column_format = 'p{1.2in}p{2.3in}p{1.2in}p{2.3in}'\n",
    "fix_latex_line = FixLatexLine(column_format).fix_latex_line\n",
    "latex = style.to_latex(\n",
    "    environment='supertabular',\n",
    "    column_format=column_format\n",
    ")\n",
    "\n",
    "latex_lines = latex.splitlines()\n",
    "latex = '\\n'.join((map(fix_latex_line, latex_lines)))\n",
    "\n",
    "filename = DATASET + '_table_alphabetical'\n",
    "with open(f'./build/{filename}.tex', 'w') as f:\n",
    "    f.write(latex)"
   ]
  },
  {
   "cell_type": "markdown",
   "metadata": {},
   "source": [
    "## 2 Column LateX word,type and definition by CEFR"
   ]
  },
  {
   "cell_type": "code",
   "execution_count": 12,
   "metadata": {},
   "outputs": [
    {
     "name": "stderr",
     "output_type": "stream",
     "text": [
      "/home/jelle/wd/words/src/utils/english.py:7: SettingWithCopyWarning: \n",
      "A value is trying to be set on a copy of a slice from a DataFrame.\n",
      "Try using .loc[row_indexer,col_indexer] = value instead\n",
      "\n",
      "See the caveats in the documentation: https://pandas.pydata.org/pandas-docs/stable/user_guide/indexing.html#returning-a-view-versus-a-copy\n",
      "  data['cefr'] = data['cefr'].map(lambda x: x.strip().upper())\n"
     ]
    }
   ],
   "source": [
    "data = load_data()\n",
    "cefrs = ['A1', 'A2', 'B1', 'B2', 'C1']\n",
    "data_by_cefr = list(map(lambda c : data[data['cefr'] == c], cefrs))"
   ]
  },
  {
   "cell_type": "code",
   "execution_count": 13,
   "metadata": {},
   "outputs": [
    {
     "data": {
      "text/html": [
       "<div>\n",
       "<style scoped>\n",
       "    .dataframe tbody tr th:only-of-type {\n",
       "        vertical-align: middle;\n",
       "    }\n",
       "\n",
       "    .dataframe tbody tr th {\n",
       "        vertical-align: top;\n",
       "    }\n",
       "\n",
       "    .dataframe thead th {\n",
       "        text-align: right;\n",
       "    }\n",
       "</style>\n",
       "<table border=\"1\" class=\"dataframe\">\n",
       "  <thead>\n",
       "    <tr style=\"text-align: right;\">\n",
       "      <th></th>\n",
       "      <th>word</th>\n",
       "      <th>type</th>\n",
       "      <th>cefr</th>\n",
       "      <th>phonetics (UK)</th>\n",
       "      <th>phonetics (US)</th>\n",
       "      <th>definition</th>\n",
       "      <th>example</th>\n",
       "    </tr>\n",
       "  </thead>\n",
       "  <tbody>\n",
       "    <tr>\n",
       "      <th>2</th>\n",
       "      <td>ability</td>\n",
       "      <td>noun</td>\n",
       "      <td>A2</td>\n",
       "      <td>/əˈbɪləti/</td>\n",
       "      <td>/əˈbɪləti/</td>\n",
       "      <td>the fact that somebody/something is able to do...</td>\n",
       "      <td>People with the disease may lose their ability...</td>\n",
       "    </tr>\n",
       "    <tr>\n",
       "      <th>3</th>\n",
       "      <td>able</td>\n",
       "      <td>adjective</td>\n",
       "      <td>A2</td>\n",
       "      <td>/ˈeɪbl/</td>\n",
       "      <td>/ˈeɪbl/</td>\n",
       "      <td>to have the skill, intelligence, opportunity, ...</td>\n",
       "      <td>You must be able to speak French for this job.</td>\n",
       "    </tr>\n",
       "    <tr>\n",
       "      <th>8</th>\n",
       "      <td>abroad</td>\n",
       "      <td>adverb</td>\n",
       "      <td>A2</td>\n",
       "      <td>/əˈbrɔːd/</td>\n",
       "      <td>/əˈbrɔːd/</td>\n",
       "      <td>in or to a foreign country</td>\n",
       "      <td>to go/travel/live/study abroad</td>\n",
       "    </tr>\n",
       "    <tr>\n",
       "      <th>13</th>\n",
       "      <td>accept</td>\n",
       "      <td>verb</td>\n",
       "      <td>A2</td>\n",
       "      <td>/əkˈsept/</td>\n",
       "      <td>/əkˈsept/</td>\n",
       "      <td>to take willingly something that is offered; t...</td>\n",
       "      <td>He asked me to marry him and I accepted.</td>\n",
       "    </tr>\n",
       "    <tr>\n",
       "      <th>17</th>\n",
       "      <td>accident</td>\n",
       "      <td>noun</td>\n",
       "      <td>A2</td>\n",
       "      <td>/ˈæksɪdənt/</td>\n",
       "      <td>/ˈæksɪdənt/</td>\n",
       "      <td>an unpleasant event, especially in a vehicle, ...</td>\n",
       "      <td>a car/road/traffic accident</td>\n",
       "    </tr>\n",
       "  </tbody>\n",
       "</table>\n",
       "</div>"
      ],
      "text/plain": [
       "        word       type cefr phonetics (UK) phonetics (US)  \\\n",
       "2    ability       noun   A2     /əˈbɪləti/     /əˈbɪləti/   \n",
       "3       able  adjective   A2        /ˈeɪbl/        /ˈeɪbl/   \n",
       "8     abroad     adverb   A2      /əˈbrɔːd/      /əˈbrɔːd/   \n",
       "13    accept       verb   A2      /əkˈsept/      /əkˈsept/   \n",
       "17  accident       noun   A2    /ˈæksɪdənt/    /ˈæksɪdənt/   \n",
       "\n",
       "                                           definition  \\\n",
       "2   the fact that somebody/something is able to do...   \n",
       "3   to have the skill, intelligence, opportunity, ...   \n",
       "8                          in or to a foreign country   \n",
       "13  to take willingly something that is offered; t...   \n",
       "17  an unpleasant event, especially in a vehicle, ...   \n",
       "\n",
       "                                              example  \n",
       "2   People with the disease may lose their ability...  \n",
       "3      You must be able to speak French for this job.  \n",
       "8                     to go/travel/live/study abroad   \n",
       "13           He asked me to marry him and I accepted.  \n",
       "17                        a car/road/traffic accident  "
      ]
     },
     "execution_count": 13,
     "metadata": {},
     "output_type": "execute_result"
    }
   ],
   "source": [
    "data_by_cefr[1].head()"
   ]
  },
  {
   "cell_type": "code",
   "execution_count": 14,
   "metadata": {},
   "outputs": [
    {
     "name": "stderr",
     "output_type": "stream",
     "text": [
      "/tmp/ipykernel_158630/1060421477.py:5: SettingWithCopyWarning: \n",
      "A value is trying to be set on a copy of a slice from a DataFrame.\n",
      "Try using .loc[row_indexer,col_indexer] = value instead\n",
      "\n",
      "See the caveats in the documentation: https://pandas.pydata.org/pandas-docs/stable/user_guide/indexing.html#returning-a-view-versus-a-copy\n",
      "  data[\"word\"] = data.apply(lambda row: f\"{row.word.strip()} ({row.type.strip()})\" , axis=1)\n",
      "/tmp/ipykernel_158630/1060421477.py:5: SettingWithCopyWarning: \n",
      "A value is trying to be set on a copy of a slice from a DataFrame.\n",
      "Try using .loc[row_indexer,col_indexer] = value instead\n",
      "\n",
      "See the caveats in the documentation: https://pandas.pydata.org/pandas-docs/stable/user_guide/indexing.html#returning-a-view-versus-a-copy\n",
      "  data[\"word\"] = data.apply(lambda row: f\"{row.word.strip()} ({row.type.strip()})\" , axis=1)\n",
      "/tmp/ipykernel_158630/1060421477.py:5: SettingWithCopyWarning: \n",
      "A value is trying to be set on a copy of a slice from a DataFrame.\n",
      "Try using .loc[row_indexer,col_indexer] = value instead\n",
      "\n",
      "See the caveats in the documentation: https://pandas.pydata.org/pandas-docs/stable/user_guide/indexing.html#returning-a-view-versus-a-copy\n",
      "  data[\"word\"] = data.apply(lambda row: f\"{row.word.strip()} ({row.type.strip()})\" , axis=1)\n",
      "/tmp/ipykernel_158630/1060421477.py:5: SettingWithCopyWarning: \n",
      "A value is trying to be set on a copy of a slice from a DataFrame.\n",
      "Try using .loc[row_indexer,col_indexer] = value instead\n",
      "\n",
      "See the caveats in the documentation: https://pandas.pydata.org/pandas-docs/stable/user_guide/indexing.html#returning-a-view-versus-a-copy\n",
      "  data[\"word\"] = data.apply(lambda row: f\"{row.word.strip()} ({row.type.strip()})\" , axis=1)\n"
     ]
    }
   ],
   "source": [
    "for data, cefr in zip(data_by_cefr, cefrs):\n",
    "    if data.empty:\n",
    "        continue\n",
    "    data = data[[\"word\", \"definition\", \"type\", \"cefr\"]]\n",
    "    data[\"word\"] = data.apply(lambda row: f\"{row.word.strip()} ({row.type.strip()})\" , axis=1)\n",
    "    data = data[[\"word\", \"definition\"]]\n",
    "\n",
    "    style = data.style.format(\n",
    "        escape=\"latex\",\n",
    "        )\n",
    "    style = style.hide(axis='index')\n",
    "    style = style.hide(axis='columns')\n",
    "\n",
    "    column_format = 'p{1.2in}p{2.3in}p{1.2in}p{2.3in}'\n",
    "    latex = style.to_latex(\n",
    "        environment='supertabular',\n",
    "        column_format=column_format\n",
    "    )\n",
    "\n",
    "    latex_lines = latex.splitlines()\n",
    "\n",
    "    latex = '\\n'.join((map(fix_latex_line, latex_lines)))\n",
    "\n",
    "    filename = f'{DATASET}_{cefr}'\n",
    "    with open(f'build/{filename}.tex', 'w') as f:\n",
    "        f.write(latex)"
   ]
  },
  {
   "cell_type": "markdown",
   "metadata": {},
   "source": [
    "## 2 Column LateX word,type and definition by CEFR shuffle"
   ]
  },
  {
   "cell_type": "code",
   "execution_count": 15,
   "metadata": {},
   "outputs": [
    {
     "name": "stderr",
     "output_type": "stream",
     "text": [
      "/tmp/ipykernel_158630/3056780930.py:5: SettingWithCopyWarning: \n",
      "A value is trying to be set on a copy of a slice from a DataFrame.\n",
      "Try using .loc[row_indexer,col_indexer] = value instead\n",
      "\n",
      "See the caveats in the documentation: https://pandas.pydata.org/pandas-docs/stable/user_guide/indexing.html#returning-a-view-versus-a-copy\n",
      "  data[\"word\"] = data.apply(lambda row: f\"{row.word.strip()} ({row.type.strip()})\" , axis=1)\n",
      "/tmp/ipykernel_158630/3056780930.py:5: SettingWithCopyWarning: \n",
      "A value is trying to be set on a copy of a slice from a DataFrame.\n",
      "Try using .loc[row_indexer,col_indexer] = value instead\n",
      "\n",
      "See the caveats in the documentation: https://pandas.pydata.org/pandas-docs/stable/user_guide/indexing.html#returning-a-view-versus-a-copy\n",
      "  data[\"word\"] = data.apply(lambda row: f\"{row.word.strip()} ({row.type.strip()})\" , axis=1)\n",
      "/tmp/ipykernel_158630/3056780930.py:5: SettingWithCopyWarning: \n",
      "A value is trying to be set on a copy of a slice from a DataFrame.\n",
      "Try using .loc[row_indexer,col_indexer] = value instead\n",
      "\n",
      "See the caveats in the documentation: https://pandas.pydata.org/pandas-docs/stable/user_guide/indexing.html#returning-a-view-versus-a-copy\n",
      "  data[\"word\"] = data.apply(lambda row: f\"{row.word.strip()} ({row.type.strip()})\" , axis=1)\n",
      "/tmp/ipykernel_158630/3056780930.py:5: SettingWithCopyWarning: \n",
      "A value is trying to be set on a copy of a slice from a DataFrame.\n",
      "Try using .loc[row_indexer,col_indexer] = value instead\n",
      "\n",
      "See the caveats in the documentation: https://pandas.pydata.org/pandas-docs/stable/user_guide/indexing.html#returning-a-view-versus-a-copy\n",
      "  data[\"word\"] = data.apply(lambda row: f\"{row.word.strip()} ({row.type.strip()})\" , axis=1)\n"
     ]
    }
   ],
   "source": [
    "for data, cefr in zip(data_by_cefr, cefrs):\n",
    "    if data.empty:\n",
    "        continue\n",
    "    data = data[[\"word\", \"definition\", \"type\", \"cefr\"]]\n",
    "    data[\"word\"] = data.apply(lambda row: f\"{row.word.strip()} ({row.type.strip()})\" , axis=1)\n",
    "    data = data[[\"word\", \"definition\"]]\n",
    "\n",
    "    data = data.sample(frac = 1)\n",
    "\n",
    "    style = data.style.format(\n",
    "        escape=\"latex\",\n",
    "        )\n",
    "    style = style.hide(axis='index')\n",
    "    style = style.hide(axis='columns')\n",
    "\n",
    "    column_format = 'p{1.2in}p{2.3in}p{1.2in}p{2.3in}'\n",
    "    latex = style.to_latex(\n",
    "        environment='supertabular',\n",
    "        column_format=column_format\n",
    "    )\n",
    "\n",
    "    latex_lines = latex.splitlines()\n",
    "    latex = '\\n'.join((map(fix_latex_line, latex_lines)))\n",
    "\n",
    "    filename = f'{DATASET}_shuffle_{cefr}'\n",
    "    with open(f'build/{filename}.tex', 'w') as f:\n",
    "        f.write(latex)"
   ]
  },
  {
   "cell_type": "code",
   "execution_count": 16,
   "metadata": {},
   "outputs": [
    {
     "name": "stdout",
     "output_type": "stream",
     "text": [
      "Rc files read:\n",
      "  /etc/LatexMk\n",
      "Latexmk: This is Latexmk, John Collins, 4 Apr. 2023. Version 4.80.\n",
      "Latexmk: Changing directory to 'format/'\n",
      "Latexmk: Undoing directory change\n"
     ]
    },
    {
     "name": "stderr",
     "output_type": "stream",
     "text": [
      "\n",
      "------------\n",
      "Latexmk: Could not find file 'oxford_3000*.tex'.\n",
      "-- Use the -f option to force complete processing.\n"
     ]
    },
    {
     "data": {
      "text/plain": [
       "2816"
      ]
     },
     "execution_count": 16,
     "metadata": {},
     "output_type": "execute_result"
    }
   ],
   "source": [
    "# Run terminal cd format latexmk oxford*.tex to finish build pdfs\n",
    "cmd_build = f\"latexmk -pdf -cd format/{DATASET}*.tex -outdir=../output\" \n",
    "os.system(cmd_build)"
   ]
  },
  {
   "cell_type": "code",
   "execution_count": 17,
   "metadata": {},
   "outputs": [
    {
     "name": "stderr",
     "output_type": "stream",
     "text": [
      "rm: cannot remove 'format/*.fls': No such file or directory\n",
      "rm: cannot remove 'format/*.log': No such file or directory\n",
      "rm: cannot remove 'format/*.html': No such file or directory\n",
      "rm: cannot remove 'format/*.toc': No such file or directory\n",
      "rm: cannot remove 'format/*.synctex*': No such file or directory\n",
      "rm: cannot remove 'format/*.fdb*': No such file or directory\n",
      "rm: cannot remove 'format/*.aux': No such file or directory\n",
      "rm: cannot remove 'format/*.pdf': No such file or directory\n",
      "rm: cannot remove './*.fls': No such file or directory\n",
      "rm: cannot remove './*.log': No such file or directory\n",
      "rm: cannot remove './*.html': No such file or directory\n",
      "rm: cannot remove './*.toc': No such file or directory\n",
      "rm: cannot remove './*.synctex*': No such file or directory\n",
      "rm: cannot remove './*.fdb*': No such file or directory\n",
      "rm: cannot remove './*.aux': No such file or directory\n",
      "rm: cannot remove 'output/*.fls': No such file or directory\n",
      "rm: cannot remove 'output/*.log': No such file or directory\n",
      "rm: cannot remove 'output/*.toc': No such file or directory\n",
      "rm: cannot remove 'output/*.synctex*': No such file or directory\n",
      "rm: cannot remove 'output/*.fdb*': No such file or directory\n",
      "rm: cannot remove 'output/*.aux': No such file or directory\n"
     ]
    },
    {
     "data": {
      "text/plain": [
       "256"
      ]
     },
     "execution_count": 17,
     "metadata": {},
     "output_type": "execute_result"
    }
   ],
   "source": [
    "# Clean any build files in output/\n",
    "files_to_remove = [\"*.fls\", \"*.log\", \"*.html\", \"*.toc\", \"*.synctex*\", \"*.fdb*\", \"*.aux\"]\n",
    "cmd_cleanup_output = \"rm \"+\" \".join(f\"output/{f}\" for f in files_to_remove)\n",
    "cmd_cleanup_format = \"rm \"+\" \".join(f\"format/{f}\" for f in files_to_remove+[\"*.pdf\"])\n",
    "cmd_cleanup_main = \"rm \"+\" \".join(f\"./{f}\" for f in files_to_remove)\n",
    "os.system(\";\".join((cmd_cleanup_format, cmd_cleanup_main, cmd_cleanup_output)))"
   ]
  },
  {
   "cell_type": "code",
   "execution_count": null,
   "metadata": {},
   "outputs": [],
   "source": []
  }
 ],
 "metadata": {
  "kernelspec": {
   "display_name": "Python 3.10.4 ('words')",
   "language": "python",
   "name": "python3"
  },
  "language_info": {
   "codemirror_mode": {
    "name": "ipython",
    "version": 3
   },
   "file_extension": ".py",
   "mimetype": "text/x-python",
   "name": "python",
   "nbconvert_exporter": "python",
   "pygments_lexer": "ipython3",
   "version": "3.11.8"
  },
  "vscode": {
   "interpreter": {
    "hash": "18f31073cf804094dd95fd57955d17dd2adebf1ed8efc5124bc1efb23479e449"
   }
  }
 },
 "nbformat": 4,
 "nbformat_minor": 2
}
