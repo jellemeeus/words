{
 "cells": [
  {
   "cell_type": "markdown",
   "metadata": {},
   "source": [
    "# Format Spanish data to word lists\n",
    "format Spanish in the following formats:\n",
    "\n",
    "* all data text spanish: \"word\", \"type\", \"english\", \"frequency_rank\"\n",
    "* 2 column: word, type, definiton"
   ]
  },
  {
   "cell_type": "code",
   "execution_count": 4,
   "metadata": {},
   "outputs": [],
   "source": [
    "import pandas as pd\n",
    "import os\n",
    "import re"
   ]
  },
  {
   "cell_type": "code",
   "execution_count": 5,
   "metadata": {},
   "outputs": [
    {
     "data": {
      "text/html": [
       "<div>\n",
       "<style scoped>\n",
       "    .dataframe tbody tr th:only-of-type {\n",
       "        vertical-align: middle;\n",
       "    }\n",
       "\n",
       "    .dataframe tbody tr th {\n",
       "        vertical-align: top;\n",
       "    }\n",
       "\n",
       "    .dataframe thead th {\n",
       "        text-align: right;\n",
       "    }\n",
       "</style>\n",
       "<table border=\"1\" class=\"dataframe\">\n",
       "  <thead>\n",
       "    <tr style=\"text-align: right;\">\n",
       "      <th></th>\n",
       "      <th>word</th>\n",
       "      <th>type</th>\n",
       "      <th>english</th>\n",
       "      <th>frequency_rank</th>\n",
       "    </tr>\n",
       "  </thead>\n",
       "  <tbody>\n",
       "    <tr>\n",
       "      <th>0</th>\n",
       "      <td>a</td>\n",
       "      <td>prep</td>\n",
       "      <td>to, at</td>\n",
       "      <td>8</td>\n",
       "    </tr>\n",
       "    <tr>\n",
       "      <th>0</th>\n",
       "      <td>abajo</td>\n",
       "      <td>adv</td>\n",
       "      <td>down, below, downward</td>\n",
       "      <td>788</td>\n",
       "    </tr>\n",
       "    <tr>\n",
       "      <th>0</th>\n",
       "      <td>abandonado</td>\n",
       "      <td>adj</td>\n",
       "      <td>abandoned</td>\n",
       "      <td>2896</td>\n",
       "    </tr>\n",
       "    <tr>\n",
       "      <th>0</th>\n",
       "      <td>abandonar</td>\n",
       "      <td>v</td>\n",
       "      <td>to abandon, leave (a place)</td>\n",
       "      <td>680</td>\n",
       "    </tr>\n",
       "    <tr>\n",
       "      <th>0</th>\n",
       "      <td>abandono</td>\n",
       "      <td>nm</td>\n",
       "      <td>abandonment, desertion</td>\n",
       "      <td>3463</td>\n",
       "    </tr>\n",
       "  </tbody>\n",
       "</table>\n",
       "</div>"
      ],
      "text/plain": [
       "         word  type                      english frequency_rank\n",
       "0           a  prep                       to, at              8\n",
       "0       abajo   adv        down, below, downward            788\n",
       "0  abandonado   adj                    abandoned           2896\n",
       "0   abandonar     v  to abandon, leave (a place)            680\n",
       "0    abandono    nm       abandonment, desertion           3463"
      ]
     },
     "execution_count": 5,
     "metadata": {},
     "output_type": "execute_result"
    }
   ],
   "source": [
    "DATASET = 'spanish'\n",
    "df = pd.read_pickle(f\"./data/spanish.pkl\")\n",
    "df.head()"
   ]
  },
  {
   "cell_type": "code",
   "execution_count": 22,
   "metadata": {},
   "outputs": [
    {
     "data": {
      "text/html": [
       "<div>\n",
       "<style scoped>\n",
       "    .dataframe tbody tr th:only-of-type {\n",
       "        vertical-align: middle;\n",
       "    }\n",
       "\n",
       "    .dataframe tbody tr th {\n",
       "        vertical-align: top;\n",
       "    }\n",
       "\n",
       "    .dataframe thead th {\n",
       "        text-align: right;\n",
       "    }\n",
       "</style>\n",
       "<table border=\"1\" class=\"dataframe\">\n",
       "  <thead>\n",
       "    <tr style=\"text-align: right;\">\n",
       "      <th></th>\n",
       "      <th>word</th>\n",
       "      <th>type</th>\n",
       "      <th>english</th>\n",
       "      <th>frequency_rank</th>\n",
       "      <th>spanish</th>\n",
       "    </tr>\n",
       "  </thead>\n",
       "  <tbody>\n",
       "    <tr>\n",
       "      <th>0</th>\n",
       "      <td>el</td>\n",
       "      <td>art</td>\n",
       "      <td>the dictionary also had useful phrases</td>\n",
       "      <td>1</td>\n",
       "      <td>el diccionario tena tambin frases tiles</td>\n",
       "    </tr>\n",
       "    <tr>\n",
       "      <th>0</th>\n",
       "      <td>de</td>\n",
       "      <td>prep</td>\n",
       "      <td>he is the son of a friend of mine</td>\n",
       "      <td>2</td>\n",
       "      <td>es el hijo de un amigo mo</td>\n",
       "    </tr>\n",
       "    <tr>\n",
       "      <th>0</th>\n",
       "      <td>que</td>\n",
       "      <td>conj</td>\n",
       "      <td>he says that he doesnt want to study</td>\n",
       "      <td>3</td>\n",
       "      <td>dice que no quiere estudiar</td>\n",
       "    </tr>\n",
       "    <tr>\n",
       "      <th>0</th>\n",
       "      <td>y</td>\n",
       "      <td>conj</td>\n",
       "      <td>they know how to read and write</td>\n",
       "      <td>4</td>\n",
       "      <td>saben leer y escribir</td>\n",
       "    </tr>\n",
       "    <tr>\n",
       "      <th>0</th>\n",
       "      <td>en</td>\n",
       "      <td>prep</td>\n",
       "      <td>I live on the second floor</td>\n",
       "      <td>5</td>\n",
       "      <td>vivo en el segundo piso</td>\n",
       "    </tr>\n",
       "  </tbody>\n",
       "</table>\n",
       "</div>"
      ],
      "text/plain": [
       "  word  type                                 english frequency_rank  \\\n",
       "0   el   art  the dictionary also had useful phrases              1   \n",
       "0   de  prep       he is the son of a friend of mine              2   \n",
       "0  que  conj    he says that he doesnt want to study              3   \n",
       "0    y  conj         they know how to read and write              4   \n",
       "0   en  prep              I live on the second floor              5   \n",
       "\n",
       "                                   spanish  \n",
       "0  el diccionario tena tambin frases tiles  \n",
       "0                es el hijo de un amigo mo  \n",
       "0              dice que no quiere estudiar  \n",
       "0                    saben leer y escribir  \n",
       "0                  vivo en el segundo piso  "
      ]
     },
     "execution_count": 22,
     "metadata": {},
     "output_type": "execute_result"
    }
   ],
   "source": [
    "df2 = pd.read_pickle(f\"./data/spanish2.pkl\")\n",
    "df2.head()"
   ]
  },
  {
   "cell_type": "code",
   "execution_count": 25,
   "metadata": {},
   "outputs": [],
   "source": [
    "# \"word\": word, \"type\": type, \"english\": english, \"frequency_rank\": frequency_rank\n",
    "def load_data():\n",
    "    data = df[[\"word\", \"type\", \"english\", \"frequency_rank\"]]\n",
    "    data = data.rename(columns={'english' : 'English'})\n",
    "    data = data.rename(columns={'frequency_rank' : 'frequency rank'})\n",
    "    return data\n",
    "\n",
    "# \"word\": word, \"type\": type, \"english\": english, \"frequency_rank\": frequency_rank, \"spanish\": spanish\n",
    "def load_data2():\n",
    "    data = df2[[\"word\", \"type\", \"spanish\", \"english\", \"frequency_rank\"]]\n",
    "    data = data.rename(columns={'english' : 'English'})\n",
    "    data = data.rename(columns={'spanish' : 'Spanish'})\n",
    "    data = data.rename(columns={'frequency_rank' : 'frequency rank'})\n",
    "    return data"
   ]
  },
  {
   "cell_type": "code",
   "execution_count": 10,
   "metadata": {},
   "outputs": [],
   "source": [
    "# Replaces given word in field with '_'\n",
    "def replace_word_in_field_with_underscore(word, field):\n",
    "    field_split = field.split(' ')\n",
    "    def _replace(e):\n",
    "        if word not in e:\n",
    "           return e\n",
    "        if not re.match(f\"^{word}.*?$\", e):\n",
    "            return e\n",
    "        return e.replace(word, '_')\n",
    "    field_split_replaced = list(map(lambda e: _replace(e), field_split))\n",
    "    return ' '.join(field_split_replaced)"
   ]
  },
  {
   "cell_type": "markdown",
   "metadata": {},
   "source": [
    "## HTML+PDF all columns alphabetical"
   ]
  },
  {
   "cell_type": "code",
   "execution_count": 9,
   "metadata": {},
   "outputs": [
    {
     "name": "stderr",
     "output_type": "stream",
     "text": [
      "Loading pages (1/6)\n",
      "Counting pages (2/6)                                               \n",
      "Resolving links (4/6)                                                       \n",
      "Loading headers and footers (5/6)                                           \n",
      "Printing pages (6/6)\n",
      "Done                                                                          \n"
     ]
    },
    {
     "data": {
      "text/plain": [
       "0"
      ]
     },
     "execution_count": 9,
     "metadata": {},
     "output_type": "execute_result"
    }
   ],
   "source": [
    "# Complete to HTML\n",
    "data = load_data2()\n",
    "data[\"Spanish\"] = data.apply(lambda row: replace_word_in_field_with_underscore(row.word, row.Spanish) , axis=1)\n",
    "data.sort_values('word') # alphebetical\n",
    "\n",
    "style = data.style.format(\n",
    "    escape=\"html\",\n",
    "    )\n",
    "style = style.hide(axis='index')\n",
    "\n",
    "html = style.to_html()\n",
    "filename = DATASET + '_alphabetical2'\n",
    "with open(f'output/{filename}.html', 'w') as f:\n",
    "    f.write(html)\n",
    "\n",
    "cmd = f'pandoc -f html -t pdf output/{filename}.html -t html5 -o output/{filename}.pdf --metadata pagetitle=\"{filename}\" -V margin-top=2 -V margin-bottom=2 -V margin-left=2 -V margin-right=2 -c format/table.css --pdf-engine-opt=--enable-local-file-access'\n",
    "os.system(cmd)"
   ]
  },
  {
   "cell_type": "markdown",
   "metadata": {},
   "source": [
    "## HTML+PDF all columns grouped by CEFR"
   ]
  },
  {
   "cell_type": "code",
   "execution_count": 27,
   "metadata": {},
   "outputs": [
    {
     "name": "stderr",
     "output_type": "stream",
     "text": [
      "Loading pages (1/6)\n",
      "Counting pages (2/6)                                               \n",
      "Resolving links (4/6)                                                       \n",
      "Loading headers and footers (5/6)                                           \n",
      "Printing pages (6/6)\n",
      "Done                                                                          \n"
     ]
    },
    {
     "data": {
      "text/plain": [
       "0"
      ]
     },
     "execution_count": 27,
     "metadata": {},
     "output_type": "execute_result"
    }
   ],
   "source": [
    "# By Ranking / pseudo-cefr\n",
    "data = load_data2()\n",
    "data[\"Spanish\"] = data.apply(lambda row: replace_word_in_field_with_underscore(row.word, row.Spanish) , axis=1)\n",
    "data.head()\n",
    "\n",
    "data_by_cefr = [\n",
    "    data.iloc[:1000],\n",
    "    data.iloc[1000:2000],\n",
    "    data.iloc[2000:3000],\n",
    "    data.iloc[3000:4000],\n",
    "    data.iloc[4000:],\n",
    "    ]\n",
    "\n",
    "\n",
    "data_by_cefr[1].head()\n",
    "cefrs = ['A1', 'A2', 'B1', 'B2', 'C1']\n",
    "\n",
    "# Complete to HTML\n",
    "html_out = ''\n",
    "for i, data_slice in enumerate(data_by_cefr):\n",
    "    if data_slice.empty:\n",
    "        continue\n",
    "    #cefr = data_slice['cefr'].iloc[0]\n",
    "    cefr = cefrs[i]\n",
    "    html_out += f'<h2>{cefr}</h2>'\n",
    "    #data_slice = data_slice.drop(['frequency rank'], axis=1)\n",
    "    data_slice = data_slice.rename(columns={'word' : f'word ({cefr})'})\n",
    "    #data_slice = data_slice.rename(columns={'english' : 'English'})\n",
    "    #data_slice = data_slice.rename(columns={'spanish' : 'Spanish'})\n",
    "\n",
    "    style = data_slice.style.format(\n",
    "        escape=\"html\",\n",
    "        )\n",
    "    style = style.hide(axis='index')\n",
    "    html_out += style.to_html()\n",
    "\n",
    "\n",
    "filename = DATASET+'_underscore_by_cefr'\n",
    "with open(f'output/{filename}.html', 'w', encoding='utf-8') as f:\n",
    "    f.write(html_out)\n",
    "\n",
    "# to pdf\n",
    "cmd = f\"\"\"pandoc -f html -t pdf output/{filename}.html -t html5 -o output/{filename}.pdf --metadata pagetitle=\"{filename}\" -V margin-top=2 -V margin-bottom=2 -V margin-left=2 -V margin-right=2 -c format/table.css --pdf-engine-opt=--enable-local-file-access --title '{filename}'\"\"\"\n",
    "os.system(cmd)\n"
   ]
  },
  {
   "cell_type": "code",
   "execution_count": null,
   "metadata": {},
   "outputs": [],
   "source": [
    "#data = load_data()\n",
    "#cefrs = ['A1', 'A2', 'B1', 'B2', 'C1']\n",
    "#data_by_cefr = list(map(lambda c : data[data['cefr'] == c], cefrs))\n",
    "#\n",
    "## Complete to HTML\n",
    "#html_out = ''\n",
    "#for data in data_by_cefr:\n",
    "#    if data.empty:\n",
    "#        continue\n",
    "#    cefr = data['cefr'].iloc[0]\n",
    "#    html_out += f'<h2>{cefr}</h2>'\n",
    "#    data = data.drop(['cefr'], axis=1)\n",
    "#    print()\n",
    "#    data = data.rename(columns={'word' : f'word ({cefr})'})\n",
    "#\n",
    "#    style = data.style.format(\n",
    "#        escape=\"html\",\n",
    "#        )\n",
    "#    style = style.hide(axis='index')\n",
    "#    html_out += style.to_html()\n",
    "#\n",
    "#\n",
    "#filename = DATASET+'_by_cefr'\n",
    "#with open(f'output/{filename}.html', 'w', encoding='utf-8') as f:\n",
    "#    f.write(html_out)\n",
    "#\n",
    "## to pdf\n",
    "#cmd = f\"\"\"pandoc -f html -t pdf output/{filename}.html -t html5 -o output/{filename}.pdf --metadata pagetitle=\"{filename}\" -V margin-top=2 -V margin-bottom=2 -V margin-left=2 -V margin-right=2 -c format/table.css --pdf-engine-opt=--enable-local-file-access --title '{filename}'\"\"\"\n",
    "#os.system(cmd)\n"
   ]
  },
  {
   "cell_type": "markdown",
   "metadata": {},
   "source": [
    "## HTML+PDF all columns grouped by CEFR shuffle"
   ]
  },
  {
   "cell_type": "code",
   "execution_count": null,
   "metadata": {},
   "outputs": [],
   "source": [
    "## Complete to HTML\n",
    "#html_out = ''\n",
    "#for data in data_by_cefr:\n",
    "#    if data.empty:\n",
    "#        continue\n",
    "#    data = load_data()\n",
    "#    cefr = data['cefr'].iloc[0]\n",
    "#    html_out += f'<h2>{cefr}</h2>'\n",
    "#    data = data.drop(['cefr'], axis=1)\n",
    "#    print()\n",
    "#    data = data.rename(columns={'word' : f'word ({cefr})'})\n",
    "#    data = data.sample(frac=1)\n",
    "#\n",
    "#    style = data.style.format(\n",
    "#        escape=\"html\",\n",
    "#        )\n",
    "#    style = style.hide(axis='index')\n",
    "#    html_out += style.to_html()\n",
    "#\n",
    "#\n",
    "#filename = DATASET+'_by_cefr_shuffle'\n",
    "#with open(f'output/{filename}.html', 'w', encoding='utf-8') as f:\n",
    "#    f.write(html_out)\n",
    "#\n",
    "## to pdf\n",
    "#cmd = f\"\"\"pandoc -f html -t pdf output/{filename}.html -t html5 -o output/{filename}.pdf --metadata pagetitle=\"{filename}\" -V margin-top=2 -V margin-bottom=2 -V margin-left=2 -V margin-right=2 -c format/table.css --pdf-engine-opt=--enable-local-file-access --title '{filename}'\"\"\"\n",
    "#os.system(cmd)\n",
    "#"
   ]
  },
  {
   "cell_type": "code",
   "execution_count": null,
   "metadata": {},
   "outputs": [],
   "source": [
    "# Complete to HTML\n",
    "html_out = ''\n",
    "for data in data_by_cefr:\n",
    "    if data.empty:\n",
    "        continue\n",
    "    data = load_data()\n",
    "    cefr = data['cefr'].iloc[0]\n",
    "    html_out += f'<h2>{cefr}</h2>'\n",
    "    data = data.drop(['cefr'], axis=1)\n",
    "    print()\n",
    "    data = data.rename(columns={'word' : f'word ({cefr})'})\n",
    "    data = data.sample(frac=1)\n",
    "\n",
    "    style = data.style.format(\n",
    "        escape=\"html\",\n",
    "        )\n",
    "    style = style.hide(axis='index')\n",
    "    html_out += style.to_html()\n",
    "\n",
    "\n",
    "filename = DATASET+'_by_cefr_shuffle'\n",
    "with open(f'output/{filename}.html', 'w', encoding='utf-8') as f:\n",
    "    f.write(html_out)\n",
    "\n",
    "# to pdf\n",
    "cmd = f\"\"\"pandoc -f html -t pdf output/{filename}.html -t html5 -o output/{filename}.pdf --metadata pagetitle=\"{filename}\" -V margin-top=2 -V margin-bottom=2 -V margin-left=2 -V margin-right=2 -c format/table.css --pdf-engine-opt=--enable-local-file-access --title '{filename}'\"\"\"\n",
    "os.system(cmd)\n"
   ]
  },
  {
   "cell_type": "markdown",
   "metadata": {},
   "source": [
    "## 2 Column LateX word, type and definition"
   ]
  },
  {
   "cell_type": "code",
   "execution_count": null,
   "metadata": {},
   "outputs": [],
   "source": [
    "# 2 column 5000 not by rank\n",
    "# shuffle and alphabetical\n",
    "\n",
    "import re\n",
    "# Fix supertabular and add \\textit to type\n",
    "def fix_latex_line(line):\n",
    "    if re.match(r\"^\\\\begin{supertabular}\", line):\n",
    "        # Add column_format to supertabular}\n",
    "        return '\\\\begin{supertabular}'+'{'+column_format+'}'\n",
    "    if re.match(r\"^\\\\.*{tabular}\", line):\n",
    "        # Remove {tabular}\n",
    "        return ''\n",
    "    if re.match(r\"^\\w+\\s.*\\(\\w+\\s?\\w+?\\)\", line):\n",
    "        # Italics\n",
    "        return re.sub(r\"(^\\w+\\s.*)(\\(\\w+\\s?\\w+?\\))\", r\"\\1\\\\textit{\\2}\", line)\n",
    "    return line\n",
    "# columns = [\"word\", \"type\", \"english\", \"frequency_rank\"]\n",
    "data = load_data()\n",
    "data[\"word\"] = data.apply(lambda row: f\"{row.word.strip()} ({row.type.strip()})\" , axis=1)\n",
    "data = data[[\"word\", \"English\"]]\n",
    "\n",
    "style = data.style.format(\n",
    "    escape=\"latex\",\n",
    "    )\n",
    "style = style.hide(axis='index')\n",
    "style = style.hide(axis='columns')\n",
    "\n",
    "column_format = 'p{1.2in}p{2.3in}p{1.2in}p{2.3in}'\n",
    "\n",
    "latex = style.to_latex(\n",
    "    environment='supertabular',\n",
    "    column_format=column_format\n",
    ")\n",
    "\n",
    "latex_lines = latex.splitlines()\n",
    "\n",
    "latex = '\\n'.join((map(fix_latex_line, latex_lines)))\n",
    "\n",
    "with open('build/spanish_5000_two_column_alphabetical.tex', 'w') as f:\n",
    "    f.write(latex)\n",
    "\n",
    "cmd_build = \"latexmk -pdf -cd format/spanish_5000_two_column_alphabetical.tex -outdir=../output\"\n",
    "os.system(cmd_build)\n",
    "\n",
    "#### Same for shuffle\n",
    "\n",
    "data = data.sample(frac=1) # shuffle\n",
    "style = data.style.format(\n",
    "    escape=\"latex\",\n",
    "    )\n",
    "style = style.hide(axis='index')\n",
    "style = style.hide(axis='columns')\n",
    "\n",
    "column_format = 'p{1.2in}p{2.3in}p{1.2in}p{2.3in}'\n",
    "\n",
    "latex = style.to_latex(\n",
    "    environment='supertabular',\n",
    "    column_format=column_format\n",
    ")\n",
    "\n",
    "latex_lines = latex.splitlines()\n",
    "latex = '\\n'.join((map(fix_latex_line, latex_lines)))\n",
    "\n",
    "with open('build/spanish_5000_two_column_shuffle.tex', 'w') as f:\n",
    "    f.write(latex)\n",
    "\n",
    "cmd_build = \"latexmk -pdf -cd format/spanish_5000_two_column_shuffle.tex -outdir=../output\"\n",
    "os.system(cmd_build)"
   ]
  },
  {
   "cell_type": "code",
   "execution_count": null,
   "metadata": {},
   "outputs": [],
   "source": [
    "# By Ranking / pseudo-cefr\n",
    "data = load_data()\n",
    "data.head()\n",
    "#cefrs = [1000, 2000, 3000, 4000, 5000] # Data goes up to 5010, always above 0\n",
    "#def is_frequency_in_freq_bound(freq, upper_bound):\n",
    "#    lower_bound = upper_bound - 1000\n",
    "#    print(freq)\n",
    "#    freq_int = int(freq)\n",
    "#    return freq if lower_bound <= freq_int and freq_int < upper_bound else False\n",
    "#data_by_cefr = list(map(lambda f : data[is_frequency_in_freq_bound(data['frequency rank'], f)], cefrs))\n",
    "\n",
    "# %%\n",
    "#data_by_cefr[1].head()"
   ]
  },
  {
   "cell_type": "code",
   "execution_count": null,
   "metadata": {},
   "outputs": [],
   "source": [
    "import re\n",
    "# Fix supertabular and add \\textit to type\n",
    "def fix_latex_line(line):\n",
    "    if re.match(r\"^\\\\begin{supertabular}\", line):\n",
    "        # Add column_format to supertabular}\n",
    "        return '\\\\begin{supertabular}'+'{'+column_format+'}'\n",
    "    if re.match(r\"^\\\\.*{tabular}\", line):\n",
    "        # Remove {tabular}\n",
    "        return ''\n",
    "    if re.match(r\"^\\w+\\s.*\\(\\w+\\s?\\w+?\\)\", line):\n",
    "        # Italics\n",
    "        return re.sub(r\"(^\\w+\\s.*)(\\(\\w+\\s?\\w+?\\))\", r\"\\1\\\\textit{\\2}\", line)\n",
    "    return line"
   ]
  },
  {
   "cell_type": "code",
   "execution_count": null,
   "metadata": {},
   "outputs": [],
   "source": []
  },
  {
   "cell_type": "code",
   "execution_count": null,
   "metadata": {},
   "outputs": [],
   "source": [
    "for data, cefr in zip(data_by_cefr, cefrs):\n",
    "    if data.empty:\n",
    "        continue\n",
    "    data = data[[\"word\", \"definition\", \"type\", \"cefr\"]]\n",
    "    data[\"word\"] = data.apply(lambda row: f\"{row.word.strip()} ({row.type.strip()})\" , axis=1)\n",
    "    data = data[[\"word\", \"definition\"]]\n",
    "\n",
    "    style = data.style.format(\n",
    "        escape=\"latex\",\n",
    "        )\n",
    "    style = style.hide(axis='index')\n",
    "    style = style.hide(axis='columns')\n",
    "\n",
    "    column_format = 'p{1.2in}p{2.3in}p{1.2in}p{2.3in}'\n",
    "    latex = style.to_latex(\n",
    "        environment='supertabular',\n",
    "        column_format=column_format\n",
    "    )\n",
    "\n",
    "    latex_lines = latex.splitlines()\n",
    "\n",
    "    latex = '\\n'.join((map(fix_latex_line, latex_lines)))\n",
    "\n",
    "    filename = f'{DATASET}_{cefr}'\n",
    "    with open(f'build/{filename}.tex', 'w') as f:\n",
    "        f.write(latex)"
   ]
  },
  {
   "cell_type": "markdown",
   "metadata": {},
   "source": [
    "## 2 Column LateX word,type and definition by CEFR shuffle"
   ]
  },
  {
   "cell_type": "code",
   "execution_count": null,
   "metadata": {},
   "outputs": [],
   "source": [
    "for data, cefr in zip(data_by_cefr, cefrs):\n",
    "    if data.empty:\n",
    "        continue\n",
    "    data = data[[\"word\", \"definition\", \"type\", \"cefr\"]]\n",
    "    data[\"word\"] = data.apply(lambda row: f\"{row.word.strip()} ({row.type.strip()})\" , axis=1)\n",
    "    data = data[[\"word\", \"definition\"]]\n",
    "\n",
    "    data = data.sample(frac = 1)\n",
    "\n",
    "    style = data.style.format(\n",
    "        escape=\"latex\",\n",
    "        )\n",
    "    style = style.hide(axis='index')\n",
    "    style = style.hide(axis='columns')\n",
    "\n",
    "    column_format = 'p{1.2in}p{2.3in}p{1.2in}p{2.3in}'\n",
    "    latex = style.to_latex(\n",
    "        environment='supertabular',\n",
    "        column_format=column_format\n",
    "    )\n",
    "\n",
    "    latex_lines = latex.splitlines()\n",
    "    latex = '\\n'.join((map(fix_latex_line, latex_lines)))\n",
    "\n",
    "    filename = f'{DATASET}_shuffle_{cefr}'\n",
    "    with open(f'build/{filename}.tex', 'w') as f:\n",
    "        f.write(latex)"
   ]
  },
  {
   "cell_type": "code",
   "execution_count": null,
   "metadata": {},
   "outputs": [],
   "source": [
    "# Run terminal cd format latexmk oxford*.tex to finish build pdfs\n",
    "cmd_build = f\"latexmk -pdf -cd format/{DATASET}*.tex -outdir=../output\" \n",
    "os.system(cmd_build)"
   ]
  },
  {
   "cell_type": "code",
   "execution_count": null,
   "metadata": {},
   "outputs": [],
   "source": [
    "# Clean any build files in output/\n",
    "files_to_remove = [\"*.fls\", \"*.log\", \"*.html\", \"*.toc\", \"*.synctex*\", \"*.fdb*\", \"*.aux\"]\n",
    "cmd_cleanup_output = \"rm \"+\" \".join(f\"output/{f}\" for f in files_to_remove)\n",
    "cmd_cleanup_format = \"rm \"+\" \".join(f\"format/{f}\" for f in files_to_remove+[\"*.pdf\"])\n",
    "cmd_cleanup_main = \"rm \"+\" \".join(f\"./{f}\" for f in files_to_remove)\n",
    "os.system(\";\".join((cmd_cleanup_format, cmd_cleanup_main, cmd_cleanup_output)))"
   ]
  },
  {
   "cell_type": "code",
   "execution_count": null,
   "metadata": {},
   "outputs": [],
   "source": []
  }
 ],
 "metadata": {
  "kernelspec": {
   "display_name": "Python 3.10.4 ('words')",
   "language": "python",
   "name": "python3"
  },
  "language_info": {
   "codemirror_mode": {
    "name": "ipython",
    "version": 3
   },
   "file_extension": ".py",
   "mimetype": "text/x-python",
   "name": "python",
   "nbconvert_exporter": "python",
   "pygments_lexer": "ipython3",
   "version": "3.10.12"
  },
  "vscode": {
   "interpreter": {
    "hash": "18f31073cf804094dd95fd57955d17dd2adebf1ed8efc5124bc1efb23479e449"
   }
  }
 },
 "nbformat": 4,
 "nbformat_minor": 2
}
